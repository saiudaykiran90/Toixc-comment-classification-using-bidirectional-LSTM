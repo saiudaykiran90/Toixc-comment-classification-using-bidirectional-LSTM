{
 "cells": [
  {
   "cell_type": "markdown",
   "metadata": {},
   "source": [
    "This project is based on the available kaggle competition - Detection of toxic comment.  \n",
    "link: https://www.kaggle.com/c/jigsaw-toxic-comment-classification-challenge"
   ]
  },
  {
   "cell_type": "markdown",
   "metadata": {},
   "source": [
    "Let's import necessary packages first."
   ]
  },
  {
   "cell_type": "code",
   "execution_count": 1,
   "metadata": {},
   "outputs": [
    {
     "name": "stderr",
     "output_type": "stream",
     "text": [
      "/usr/local/lib/python2.7/dist-packages/h5py/__init__.py:34: FutureWarning: Conversion of the second argument of issubdtype from `float` to `np.floating` is deprecated. In future, it will be treated as `np.float64 == np.dtype(float).type`.\n",
      "  from ._conv import register_converters as _register_converters\n",
      "Using TensorFlow backend.\n",
      "Couldn't import dot_parser, loading of dot files will not be possible.\n"
     ]
    }
   ],
   "source": [
    "import os\n",
    "import pandas as pd\n",
    "from keras.preprocessing.text import Tokenizer\n",
    "from keras.preprocessing.sequence import pad_sequences\n",
    "from keras.layers import Dense, Input, LSTM, Embedding, Dropout,Conv1D,Flatten,Concatenate\n",
    "from keras.models import Model\n",
    "from keras import optimizers\n",
    "from keras.callbacks import ModelCheckpoint"
   ]
  },
  {
   "cell_type": "code",
   "execution_count": 2,
   "metadata": {
    "collapsed": true
   },
   "outputs": [],
   "source": [
    "# Mentioning the name of the input file\n",
    "TRAIN_DATA_FILE= 'train.csv'\n",
    "TEST_DATA_FILE= 'test.csv'"
   ]
  },
  {
   "cell_type": "code",
   "execution_count": 3,
   "metadata": {
    "collapsed": true
   },
   "outputs": [],
   "source": [
    "train = pd.read_csv(TRAIN_DATA_FILE)\n",
    "test = pd.read_csv(TEST_DATA_FILE)"
   ]
  },
  {
   "cell_type": "code",
   "execution_count": 9,
   "metadata": {
    "collapsed": true
   },
   "outputs": [],
   "source": [
    "# Little preprocessing required\n",
    "sentences_train = train[\"comment_text\"].fillna(\"_na_\").values\n",
    "classes = [\"toxic\", \"severe_toxic\", \"obscene\", \"threat\", \"insult\", \"identity_hate\"]\n",
    "y = train[classes].values\n",
    "sentences_test = test[\"comment_text\"].fillna(\"_na_\").values"
   ]
  },
  {
   "cell_type": "code",
   "execution_count": 10,
   "metadata": {
    "collapsed": true
   },
   "outputs": [],
   "source": [
    "# Embedding parameter set\n",
    "embed_size = 100 # how big is each word vector\n",
    "max_features = 20000 # how many unique words to use (i.e num rows in embedding vector)\n",
    "maxlen = 50 # max number of words in a comment to use"
   ]
  },
  {
   "cell_type": "code",
   "execution_count": 11,
   "metadata": {
    "collapsed": true
   },
   "outputs": [],
   "source": [
    "tokenizer = Tokenizer(num_words=max_features)\n",
    "tokenizer.fit_on_texts(list(sentences_train))\n",
    "tokens_train = tokenizer.texts_to_sequences(sentences_train)\n",
    "tokens_test = tokenizer.texts_to_sequences(sentences_test)\n",
    "X_train = pad_sequences(tokens_train, maxlen=maxlen)\n",
    "X_test = pad_sequences(tokens_test, maxlen=maxlen)"
   ]
  },
  {
   "cell_type": "markdown",
   "metadata": {},
   "source": [
    "# Create Keras Model"
   ]
  },
  {
   "cell_type": "code",
   "execution_count": 21,
   "metadata": {},
   "outputs": [
    {
     "name": "stdout",
     "output_type": "stream",
     "text": [
      "_________________________________________________________________\n",
      "Layer (type)                 Output Shape              Param #   \n",
      "=================================================================\n",
      "input_3 (InputLayer)         (None, 50)                0         \n",
      "_________________________________________________________________\n",
      "embedding_3 (Embedding)      (None, 50, 100)           2000000   \n",
      "_________________________________________________________________\n",
      "lstm_3 (LSTM)                (None, 50, 4)             1680      \n",
      "_________________________________________________________________\n",
      "conv1d_3 (Conv1D)            (None, 47, 16)            272       \n",
      "_________________________________________________________________\n",
      "flatten_3 (Flatten)          (None, 752)               0         \n",
      "_________________________________________________________________\n",
      "dense_5 (Dense)              (None, 100)               75300     \n",
      "_________________________________________________________________\n",
      "dropout_3 (Dropout)          (None, 100)               0         \n",
      "_________________________________________________________________\n",
      "dense_6 (Dense)              (None, 6)                 606       \n",
      "=================================================================\n",
      "Total params: 2,077,858\n",
      "Trainable params: 2,077,858\n",
      "Non-trainable params: 0\n",
      "_________________________________________________________________\n"
     ]
    }
   ],
   "source": [
    "inp = Input(shape=(maxlen,))\n",
    "x = Embedding(max_features, embed_size)(inp)\n",
    "x = LSTM(4, return_sequences=True, dropout=0.2, recurrent_dropout=0.1)(x)\n",
    "x = Conv1D(16,4,activation='relu')(x)\n",
    "x = Flatten()(x)\n",
    "x = Dense(100, activation=\"relu\")(x)\n",
    "x = Dropout(0.1)(x)\n",
    "x = Dense(6, activation=\"sigmoid\")(x)\n",
    "model = Model(inputs=inp, outputs=x)\n",
    "model.compile(loss='binary_crossentropy', optimizer=optimizers.rmsprop(lr = 0.001,decay = 1e-06), metrics=['accuracy'])\n",
    "filepath=\"Weights/weights-improvement.hdf5\"\n",
    "checkpoint = ModelCheckpoint(filepath, monitor='val_acc', verbose=1, save_best_only=True, mode='max')\n",
    "callbacks_list = [checkpoint]\n",
    "model.summary()"
   ]
  },
  {
   "cell_type": "markdown",
   "metadata": {},
   "source": [
    "Fit the defined model onto the data:"
   ]
  },
  {
   "cell_type": "code",
   "execution_count": null,
   "metadata": {},
   "outputs": [
    {
     "name": "stdout",
     "output_type": "stream",
     "text": [
      "Train on 127656 samples, validate on 31915 samples\n",
      "Epoch 1/5\n",
      "127648/127656 [============================>.] - ETA: 0s - loss: 0.0712 - acc: 0.9775\n",
      "Epoch 00001: val_acc improved from -inf to 0.98077, saving model to Weights/weights-improvement.hdf5\n",
      "127656/127656 [==============================] - 268s 2ms/step - loss: 0.0712 - acc: 0.9775 - val_loss: 0.0594 - val_acc: 0.9808\n",
      "Epoch 2/5\n",
      "127648/127656 [============================>.] - ETA: 0s - loss: 0.0608 - acc: 0.9804\n",
      "Epoch 00002: val_acc did not improve\n",
      "127656/127656 [==============================] - 262s 2ms/step - loss: 0.0608 - acc: 0.9804 - val_loss: 0.0625 - val_acc: 0.9808\n",
      "Epoch 3/5\n",
      "127648/127656 [============================>.] - ETA: 0s - loss: 0.0612 - acc: 0.9804\n",
      "Epoch 00003: val_acc did not improve\n",
      "127656/127656 [==============================] - 266s 2ms/step - loss: 0.0612 - acc: 0.9804 - val_loss: 0.0676 - val_acc: 0.9806\n",
      "Epoch 4/5\n",
      "127648/127656 [============================>.] - ETA: 0s - loss: 0.0620 - acc: 0.9804\n",
      "Epoch 00004: val_acc did not improve\n",
      "127656/127656 [==============================] - 263s 2ms/step - loss: 0.0620 - acc: 0.9804 - val_loss: 0.0654 - val_acc: 0.9803\n",
      "Epoch 5/5\n",
      "111648/127656 [=========================>....] - ETA: 32s - loss: 0.0620 - acc: 0.9804"
     ]
    }
   ],
   "source": [
    "model.fit(X_train, y, batch_size=32, epochs=5,callbacks=callbacks_list, verbose=1, validation_split=0.2)"
   ]
  },
  {
   "cell_type": "markdown",
   "metadata": {},
   "source": [
    "# Select from saved weights as per choice and predict response"
   ]
  },
  {
   "cell_type": "code",
   "execution_count": 20,
   "metadata": {
    "collapsed": true
   },
   "outputs": [],
   "source": [
    "from keras.models import load_model\n",
    "saved_model = load_model('Weights/weights-improvement.hdf5')\n",
    "y_test = saved_model.predict(X_test)"
   ]
  },
  {
   "cell_type": "code",
   "execution_count": 19,
   "metadata": {
    "collapsed": true
   },
   "outputs": [],
   "source": [
    "Submit = pd.DataFrame(test.id,columns=['id'])\n",
    "Submit2 = pd.DataFrame(y_test,columns=list_classes)\n",
    "Submit = pd.concat([Submit,Submit2],axis=1)\n",
    "Submit.to_csv(\"Kaggle_Submission_Convolution_LSTM_.csv\",index=False)"
   ]
  }
 ],
 "metadata": {
  "kernelspec": {
   "display_name": "Python 3",
   "language": "python",
   "name": "python3"
  },
  "language_info": {
   "codemirror_mode": {
    "name": "ipython",
    "version": 3
   },
   "file_extension": ".py",
   "mimetype": "text/x-python",
   "name": "python",
   "nbconvert_exporter": "python",
   "pygments_lexer": "ipython3",
   "version": "3.7.6"
  }
 },
 "nbformat": 4,
 "nbformat_minor": 2
}
